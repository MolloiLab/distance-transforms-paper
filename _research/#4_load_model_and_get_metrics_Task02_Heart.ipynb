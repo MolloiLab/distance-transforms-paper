{
 "cells": [
  {
   "cell_type": "code",
   "execution_count": 1,
   "metadata": {},
   "outputs": [
    {
     "name": "stderr",
     "output_type": "stream",
     "text": [
      "\u001b[32m\u001b[1m  Activating\u001b[22m\u001b[39m project at `c:\\Users\\wenbl13\\Desktop\\Wenbo_Timing`\n"
     ]
    },
    {
     "name": "stderr",
     "output_type": "stream",
     "text": [
      "\u001b[32m\u001b[1m    Updating\u001b[22m\u001b[39m registry at `C:\\Users\\wenbl13\\.julia\\registries\\General.toml`\n"
     ]
    },
    {
     "name": "stderr",
     "output_type": "stream",
     "text": [
      "\u001b[32m\u001b[1m   Resolving\u001b[22m\u001b[39m package versions..."
     ]
    },
    {
     "name": "stderr",
     "output_type": "stream",
     "text": [
      "\n"
     ]
    },
    {
     "name": "stderr",
     "output_type": "stream",
     "text": [
      "\u001b[32m\u001b[1m  No Changes\u001b[22m\u001b[39m to `C:\\Users\\wenbl13\\Desktop\\Wenbo_Timing\\Project.toml`\n",
      "\u001b[32m\u001b[1m  No Changes\u001b[22m\u001b[39m to `C:\\Users\\wenbl13\\Desktop\\Wenbo_Timing\\Manifest.toml`\n"
     ]
    },
    {
     "name": "stderr",
     "output_type": "stream",
     "text": [
      "\u001b[32m\u001b[1m   Resolving\u001b[22m\u001b[39m package versions...\n"
     ]
    },
    {
     "name": "stderr",
     "output_type": "stream",
     "text": [
      "\u001b[32m\u001b[1m  No Changes\u001b[22m\u001b[39m to `C:\\Users\\wenbl13\\Desktop\\Wenbo_Timing\\Project.toml`\n",
      "\u001b[32m\u001b[1m  No Changes\u001b[22m\u001b[39m to `C:\\Users\\wenbl13\\Desktop\\Wenbo_Timing\\Manifest.toml`\n"
     ]
    },
    {
     "name": "stderr",
     "output_type": "stream",
     "text": [
      "\u001b[32m\u001b[1m   Resolving\u001b[22m\u001b[39m package versions...\n"
     ]
    },
    {
     "name": "stderr",
     "output_type": "stream",
     "text": [
      "\u001b[32m\u001b[1m  No Changes\u001b[22m\u001b[39m to `C:\\Users\\wenbl13\\Desktop\\Wenbo_Timing\\Project.toml`\n",
      "\u001b[32m\u001b[1m  No Changes\u001b[22m\u001b[39m to `C:\\Users\\wenbl13\\Desktop\\Wenbo_Timing\\Manifest.toml`\n"
     ]
    },
    {
     "name": "stderr",
     "output_type": "stream",
     "text": [
      "\u001b[32m\u001b[1m   Resolving\u001b[22m\u001b[39m package versions...\n"
     ]
    },
    {
     "name": "stderr",
     "output_type": "stream",
     "text": [
      "\u001b[32m\u001b[1m  No Changes\u001b[22m\u001b[39m to `C:\\Users\\wenbl13\\Desktop\\Wenbo_Timing\\Project.toml`\n",
      "\u001b[32m\u001b[1m  No Changes\u001b[22m\u001b[39m to `C:\\Users\\wenbl13\\Desktop\\Wenbo_Timing\\Manifest.toml`"
     ]
    },
    {
     "name": "stderr",
     "output_type": "stream",
     "text": [
      "\n"
     ]
    },
    {
     "name": "stderr",
     "output_type": "stream",
     "text": [
      "\u001b[32m\u001b[1m   Resolving\u001b[22m\u001b[39m package versions...\n"
     ]
    },
    {
     "name": "stderr",
     "output_type": "stream",
     "text": [
      "\u001b[32m\u001b[1m  No Changes\u001b[22m\u001b[39m to `C:\\Users\\wenbl13\\Desktop\\Wenbo_Timing\\Project.toml`\n",
      "\u001b[32m\u001b[1m  No Changes\u001b[22m\u001b[39m to `C:\\Users\\wenbl13\\Desktop\\Wenbo_Timing\\Manifest.toml`\n"
     ]
    },
    {
     "name": "stderr",
     "output_type": "stream",
     "text": [
      "\u001b[32m\u001b[1m   Resolving\u001b[22m\u001b[39m package versions...\n"
     ]
    },
    {
     "name": "stderr",
     "output_type": "stream",
     "text": [
      "\u001b[32m\u001b[1m  No Changes\u001b[22m\u001b[39m to `C:\\Users\\wenbl13\\Desktop\\Wenbo_Timing\\Project.toml`\n",
      "\u001b[32m\u001b[1m  No Changes\u001b[22m\u001b[39m to `C:\\Users\\wenbl13\\Desktop\\Wenbo_Timing\\Manifest.toml`"
     ]
    },
    {
     "name": "stderr",
     "output_type": "stream",
     "text": [
      "\n"
     ]
    },
    {
     "name": "stderr",
     "output_type": "stream",
     "text": [
      "\u001b[32m\u001b[1m   Resolving\u001b[22m\u001b[39m package versions...\n"
     ]
    },
    {
     "name": "stderr",
     "output_type": "stream",
     "text": [
      "\u001b[32m\u001b[1m  No Changes\u001b[22m\u001b[39m to `C:\\Users\\wenbl13\\Desktop\\Wenbo_Timing\\Project.toml`\n",
      "\u001b[32m\u001b[1m  No Changes\u001b[22m\u001b[39m to `C:\\Users\\wenbl13\\Desktop\\Wenbo_Timing\\Manifest.toml`\n"
     ]
    },
    {
     "name": "stderr",
     "output_type": "stream",
     "text": [
      "\u001b[32m\u001b[1m   Resolving\u001b[22m\u001b[39m package versions...\n"
     ]
    },
    {
     "name": "stderr",
     "output_type": "stream",
     "text": [
      "\u001b[32m\u001b[1m  No Changes\u001b[22m\u001b[39m to `C:\\Users\\wenbl13\\Desktop\\Wenbo_Timing\\Project.toml`\n",
      "\u001b[32m\u001b[1m  No Changes\u001b[22m\u001b[39m to `C:\\Users\\wenbl13\\Desktop\\Wenbo_Timing\\Manifest.toml`"
     ]
    },
    {
     "name": "stderr",
     "output_type": "stream",
     "text": [
      "\n"
     ]
    },
    {
     "name": "stderr",
     "output_type": "stream",
     "text": [
      "\u001b[32m\u001b[1m   Resolving\u001b[22m\u001b[39m package versions..."
     ]
    },
    {
     "name": "stderr",
     "output_type": "stream",
     "text": [
      "\n"
     ]
    },
    {
     "name": "stderr",
     "output_type": "stream",
     "text": [
      "\u001b[32m\u001b[1m  No Changes\u001b[22m\u001b[39m to `C:\\Users\\wenbl13\\Desktop\\Wenbo_Timing\\Project.toml`\n",
      "\u001b[32m\u001b[1m  No Changes\u001b[22m\u001b[39m to `C:\\Users\\wenbl13\\Desktop\\Wenbo_Timing\\Manifest.toml`\n"
     ]
    },
    {
     "name": "stderr",
     "output_type": "stream",
     "text": [
      "\u001b[32m\u001b[1m   Resolving\u001b[22m\u001b[39m package versions..."
     ]
    },
    {
     "name": "stderr",
     "output_type": "stream",
     "text": [
      "\n"
     ]
    },
    {
     "name": "stderr",
     "output_type": "stream",
     "text": [
      "\u001b[32m\u001b[1m  No Changes\u001b[22m\u001b[39m to `C:\\Users\\wenbl13\\Desktop\\Wenbo_Timing\\Project.toml`\n",
      "\u001b[32m\u001b[1m  No Changes\u001b[22m\u001b[39m to `C:\\Users\\wenbl13\\Desktop\\Wenbo_Timing\\Manifest.toml`"
     ]
    },
    {
     "name": "stderr",
     "output_type": "stream",
     "text": [
      "\n"
     ]
    },
    {
     "name": "stderr",
     "output_type": "stream",
     "text": [
      "\u001b[32m\u001b[1m   Resolving\u001b[22m\u001b[39m package versions...\n"
     ]
    },
    {
     "name": "stderr",
     "output_type": "stream",
     "text": [
      "\u001b[32m\u001b[1m  No Changes\u001b[22m\u001b[39m to `C:\\Users\\wenbl13\\Desktop\\Wenbo_Timing\\Project.toml`\n",
      "\u001b[32m\u001b[1m  No Changes\u001b[22m\u001b[39m to `C:\\Users\\wenbl13\\Desktop\\Wenbo_Timing\\Manifest.toml`\n"
     ]
    },
    {
     "name": "stderr",
     "output_type": "stream",
     "text": [
      "\u001b[32m\u001b[1m   Resolving\u001b[22m\u001b[39m package versions..."
     ]
    },
    {
     "name": "stderr",
     "output_type": "stream",
     "text": [
      "\n"
     ]
    },
    {
     "name": "stderr",
     "output_type": "stream",
     "text": [
      "\u001b[32m\u001b[1m  No Changes\u001b[22m\u001b[39m to `C:\\Users\\wenbl13\\Desktop\\Wenbo_Timing\\Project.toml`\n",
      "\u001b[32m\u001b[1m  No Changes\u001b[22m\u001b[39m to `C:\\Users\\wenbl13\\Desktop\\Wenbo_Timing\\Manifest.toml`\n"
     ]
    },
    {
     "name": "stderr",
     "output_type": "stream",
     "text": [
      "\u001b[32m\u001b[1m   Resolving\u001b[22m\u001b[39m package versions..."
     ]
    },
    {
     "name": "stderr",
     "output_type": "stream",
     "text": [
      "\n"
     ]
    },
    {
     "name": "stderr",
     "output_type": "stream",
     "text": [
      "\u001b[32m\u001b[1m  No Changes\u001b[22m\u001b[39m to `C:\\Users\\wenbl13\\Desktop\\Wenbo_Timing\\Project.toml`\n",
      "\u001b[32m\u001b[1m  No Changes\u001b[22m\u001b[39m to `C:\\Users\\wenbl13\\Desktop\\Wenbo_Timing\\Manifest.toml`"
     ]
    },
    {
     "name": "stderr",
     "output_type": "stream",
     "text": [
      "\n"
     ]
    },
    {
     "name": "stderr",
     "output_type": "stream",
     "text": [
      "\u001b[32m\u001b[1m   Resolving\u001b[22m\u001b[39m package versions...\n"
     ]
    },
    {
     "name": "stderr",
     "output_type": "stream",
     "text": [
      "\u001b[32m\u001b[1m  No Changes\u001b[22m\u001b[39m to `C:\\Users\\wenbl13\\Desktop\\Wenbo_Timing\\Project.toml`\n",
      "\u001b[32m\u001b[1m  No Changes\u001b[22m\u001b[39m to `C:\\Users\\wenbl13\\Desktop\\Wenbo_Timing\\Manifest.toml`"
     ]
    },
    {
     "name": "stderr",
     "output_type": "stream",
     "text": [
      "\n"
     ]
    },
    {
     "name": "stderr",
     "output_type": "stream",
     "text": [
      "\u001b[32m\u001b[1m   Resolving\u001b[22m\u001b[39m package versions..."
     ]
    },
    {
     "name": "stderr",
     "output_type": "stream",
     "text": [
      "\n"
     ]
    },
    {
     "name": "stderr",
     "output_type": "stream",
     "text": [
      "\u001b[32m\u001b[1m  No Changes\u001b[22m\u001b[39m to `C:\\Users\\wenbl13\\Desktop\\Wenbo_Timing\\Project.toml`\n",
      "\u001b[32m\u001b[1m  No Changes\u001b[22m\u001b[39m to `C:\\Users\\wenbl13\\Desktop\\Wenbo_Timing\\Manifest.toml`\n"
     ]
    },
    {
     "name": "stderr",
     "output_type": "stream",
     "text": [
      "\u001b[32m\u001b[1m   Resolving\u001b[22m\u001b[39m package versions..."
     ]
    },
    {
     "name": "stderr",
     "output_type": "stream",
     "text": [
      "\n"
     ]
    },
    {
     "name": "stderr",
     "output_type": "stream",
     "text": [
      "\u001b[32m\u001b[1m  No Changes\u001b[22m\u001b[39m to `C:\\Users\\wenbl13\\Desktop\\Wenbo_Timing\\Project.toml`\n",
      "\u001b[32m\u001b[1m  No Changes\u001b[22m\u001b[39m to `C:\\Users\\wenbl13\\Desktop\\Wenbo_Timing\\Manifest.toml`\n"
     ]
    },
    {
     "name": "stderr",
     "output_type": "stream",
     "text": [
      "\u001b[32m\u001b[1m    Updating\u001b[22m\u001b[39m git-repo `https://github.com/Dale-Black/ComputerVisionMetrics.jl`"
     ]
    },
    {
     "name": "stderr",
     "output_type": "stream",
     "text": [
      "\n",
      "\u001b[32m\u001b[1m   Resolving\u001b[22m\u001b[39m "
     ]
    },
    {
     "name": "stderr",
     "output_type": "stream",
     "text": [
      "package versions...\n"
     ]
    },
    {
     "name": "stderr",
     "output_type": "stream",
     "text": [
      "\u001b[32m\u001b[1m  No Changes\u001b[22m\u001b[39m to `C:\\Users\\wenbl13\\Desktop\\Wenbo_Timing\\Project.toml`\n",
      "\u001b[32m\u001b[1m  No Changes\u001b[22m\u001b[39m to `C:\\Users\\wenbl13\\Desktop\\Wenbo_Timing\\Manifest.toml`"
     ]
    },
    {
     "name": "stderr",
     "output_type": "stream",
     "text": [
      "\n"
     ]
    },
    {
     "name": "stderr",
     "output_type": "stream",
     "text": [
      "\u001b[32m\u001b[1m    Updating\u001b[22m\u001b[39m git-repo `https://github.com/Dale-Black/DistanceTransforms.jl`"
     ]
    },
    {
     "name": "stderr",
     "output_type": "stream",
     "text": [
      "\n",
      "\u001b[32m\u001b[1m   Resolving\u001b[22m\u001b[39m package versions...\n"
     ]
    },
    {
     "name": "stderr",
     "output_type": "stream",
     "text": [
      "\u001b[32m\u001b[1m  No Changes\u001b[22m\u001b[39m to `C:\\Users\\wenbl13\\Desktop\\Wenbo_Timing\\Project.toml`\n",
      "\u001b[32m\u001b[1m  No Changes\u001b[22m\u001b[39m to `C:\\Users\\wenbl13\\Desktop\\Wenbo_Timing\\Manifest.toml`\n"
     ]
    }
   ],
   "source": [
    "# Julia 1.8.4\n",
    "using Pkg\n",
    "Pkg.activate(\".\")\n",
    "Pkg.instantiate()\n",
    "Pkg.add(\"CUDA\")\n",
    "Pkg.add(\"Glob\")\n",
    "Pkg.add(\"Flux\")\n",
    "Pkg.add(\"NIfTI\")\n",
    "Pkg.add(\"Images\")\n",
    "Pkg.add(\"FastAI\")\n",
    "Pkg.add(\"Metalhead\")\n",
    "Pkg.add(\"FastVision\")\n",
    "Pkg.add(\"CairoMakie\")\n",
    "Pkg.add(\"StaticArrays\")\n",
    "Pkg.add(\"MLDataPattern\")\n",
    "Pkg.add(\"BenchmarkTools\")\n",
    "Pkg.add(\"ChainRulesCore\")\n",
    "Pkg.add(\"BSON\")\n",
    "Pkg.add(\"DataFrames\")\n",
    "Pkg.add(\"CSV\")\n",
    "Pkg.add(url = \"https://github.com/Dale-Black/ComputerVisionMetrics.jl\")\n",
    "Pkg.add(url=\"https://github.com/Dale-Black/DistanceTransforms.jl\", rev=\"wenbo\")"
   ]
  },
  {
   "cell_type": "code",
   "execution_count": 2,
   "metadata": {},
   "outputs": [],
   "source": [
    "using CUDA\n",
    "using Glob\n",
    "using Dates\n",
    "using NIfTI\n",
    "using Images\n",
    "using Statistics\n",
    "using StaticArrays\n",
    "using MLDataPattern\n",
    "using BenchmarkTools\n",
    "using ChainRulesCore\n",
    "using DistanceTransforms\n",
    "using DataFrames\n",
    "using CSV\n",
    "using ComputerVisionMetrics\n",
    "using FastAI, FastVision, Flux, Metalhead\n",
    "import CairoMakie; CairoMakie.activate!(type=\"png\")"
   ]
  },
  {
   "attachments": {},
   "cell_type": "markdown",
   "metadata": {},
   "source": [
    "# Load and prepare data"
   ]
  },
  {
   "cell_type": "code",
   "execution_count": 3,
   "metadata": {},
   "outputs": [
    {
     "data": {
      "text/plain": [
       "\"C:\\\\Users\\\\wenbl13\\\\Desktop\\\\Ashwin-Timing\\\\distance-transforms\\\\Task02_Heart\""
      ]
     },
     "metadata": {},
     "output_type": "display_data"
    }
   ],
   "source": [
    "data_dir = raw\"C:\\Users\\wenbl13\\Desktop\\Ashwin-Timing\\distance-transforms\\Task02_Heart\""
   ]
  },
  {
   "cell_type": "code",
   "execution_count": 28,
   "metadata": {},
   "outputs": [
    {
     "name": "stderr",
     "output_type": "stream",
     "text": [
      "\r\u001b[32mProgress:  10%|█████                                    |  ETA: 0:00:02\u001b[39m\u001b[K"
     ]
    },
    {
     "name": "stderr",
     "output_type": "stream",
     "text": [
      "\r\u001b[32mProgress: 100%|█████████████████████████████████████████| Time: 0:00:00\u001b[39m\u001b[K\n"
     ]
    }
   ],
   "source": [
    "function loadfn_label(p)\n",
    "    a = NIfTI.niread(string(p)).raw\n",
    "    convert_a = convert(Array{UInt8}, a)\n",
    "    convert_a = convert_a .+ 1\n",
    "    return convert_a\n",
    "end\n",
    "\n",
    "function loadfn_image(p)\n",
    "    a = NIfTI.niread(string(p)).raw\n",
    "    convert_a = convert(Array{Float32}, a)\n",
    "    convert_a = convert_a / max(convert_a...)\n",
    "    return convert_a\n",
    "end\n",
    "\n",
    "images(dir) = mapobs(loadfn_image, Glob.glob(\"*.nii*\", dir))\n",
    "masks(dir) =  mapobs(loadfn_label, Glob.glob(\"*.nii*\", dir))\n",
    "pre_data = (\n",
    "    images(joinpath(data_dir, \"imagesTr\")),\n",
    "    masks(joinpath(data_dir, \"labelsTr\")),\n",
    ");\n",
    "\n",
    "image_size = (96, 96, 96)\n",
    "\n",
    "function presize(files)\n",
    "    container_images = Array{Float32,4}(undef, image_size..., numobs(files))\n",
    "    container_masks = Array{Int64,4}(undef, image_size..., numobs(files))\n",
    "    for i in 1:numobs(files)\n",
    "        image, mask = FastAI.getobs(files, i)\n",
    "        img = imresize(image, image_size)\n",
    "        msk = round.(imresize(mask, image_size))\n",
    "        container_images[:, :, :, i] = img\n",
    "        container_masks[:, :, :, i] = msk\n",
    "    end\n",
    "    return container_images, container_masks\n",
    "end\n",
    "\n",
    "img_container, mask_container = presize(pre_data)\n",
    "data_resized = (img_container,mask_container);\n",
    "\n",
    "a, b = FastVision.imagedatasetstats(img_container, Gray{N0f8}) \n",
    "means, stds = SVector{1, Float32}(a[1]), SVector{1, Float32}(b[1])\n",
    "\n",
    "task = SupervisedTask(\n",
    "    (FastVision.Image{3}(), Mask{3}(1:2)),\n",
    "    (\n",
    "        ProjectiveTransforms((image_size)),\n",
    "        ImagePreprocessing(means = means, stds = stds, C = Gray{N0f8}),\n",
    "        FastAI.OneHot()\n",
    "    )\n",
    ")\n",
    "\n",
    "train_files, val_files = MLDataPattern.splitobs(data_resized, 0.8);"
   ]
  },
  {
   "cell_type": "code",
   "execution_count": 32,
   "metadata": {},
   "outputs": [],
   "source": [
    "batch_size = 4 \n",
    "tdl, vdl = FastAI.taskdataloaders(train_files, val_files, task, batch_size);"
   ]
  },
  {
   "attachments": {},
   "cell_type": "markdown",
   "metadata": {},
   "source": [
    "# Get metrics"
   ]
  },
  {
   "cell_type": "code",
   "execution_count": 37,
   "metadata": {},
   "outputs": [
    {
     "name": "stdout",
     "output_type": "stream",
     "text": [
      "10...\t"
     ]
    },
    {
     "name": "stderr",
     "output_type": "stream",
     "text": [
      "┌ Warning: Number of observations less than batch-size, decreasing the batch-size to 4\n",
      "└ @ MLUtils C:\\Users\\wenbl13\\.julia\\packages\\MLUtils\\Th9Y3\\src\\batchview.jl:95\n"
     ]
    },
    {
     "name": "stdout",
     "output_type": "stream",
     "text": [
      "20...\t"
     ]
    },
    {
     "name": "stderr",
     "output_type": "stream",
     "text": [
      "┌ Warning: Number of observations less than batch-size, decreasing the batch-size to 4\n",
      "└ @ MLUtils C:\\Users\\wenbl13\\.julia\\packages\\MLUtils\\Th9Y3\\src\\batchview.jl:95\n"
     ]
    },
    {
     "name": "stdout",
     "output_type": "stream",
     "text": [
      "30...\t"
     ]
    },
    {
     "name": "stderr",
     "output_type": "stream",
     "text": [
      "┌ Warning: Number of observations less than batch-size, decreasing the batch-size to 4\n",
      "└ @ MLUtils C:\\Users\\wenbl13\\.julia\\packages\\MLUtils\\Th9Y3\\src\\batchview.jl:95\n"
     ]
    },
    {
     "name": "stdout",
     "output_type": "stream",
     "text": [
      "40...\t"
     ]
    },
    {
     "name": "stderr",
     "output_type": "stream",
     "text": [
      "┌ Warning: Number of observations less than batch-size, decreasing the batch-size to 4\n",
      "└ @ MLUtils C:\\Users\\wenbl13\\.julia\\packages\\MLUtils\\Th9Y3\\src\\batchview.jl:95\n"
     ]
    },
    {
     "name": "stdout",
     "output_type": "stream",
     "text": [
      "50...\t"
     ]
    },
    {
     "name": "stderr",
     "output_type": "stream",
     "text": [
      "┌ Warning: Number of observations less than batch-size, decreasing the batch-size to 4\n",
      "└ @ MLUtils C:\\Users\\wenbl13\\.julia\\packages\\MLUtils\\Th9Y3\\src\\batchview.jl:95\n"
     ]
    },
    {
     "name": "stdout",
     "output_type": "stream",
     "text": [
      "60...\t"
     ]
    },
    {
     "name": "stderr",
     "output_type": "stream",
     "text": [
      "┌ Warning: Number of observations less than batch-size, decreasing the batch-size to 4\n",
      "└ @ MLUtils C:\\Users\\wenbl13\\.julia\\packages\\MLUtils\\Th9Y3\\src\\batchview.jl:95\n"
     ]
    },
    {
     "name": "stdout",
     "output_type": "stream",
     "text": [
      "70...\t"
     ]
    },
    {
     "name": "stderr",
     "output_type": "stream",
     "text": [
      "┌ Warning: Number of observations less than batch-size, decreasing the batch-size to 4\n",
      "└ @ MLUtils C:\\Users\\wenbl13\\.julia\\packages\\MLUtils\\Th9Y3\\src\\batchview.jl:95\n"
     ]
    },
    {
     "name": "stdout",
     "output_type": "stream",
     "text": [
      "80...\t"
     ]
    },
    {
     "name": "stderr",
     "output_type": "stream",
     "text": [
      "┌ Warning: Number of observations less than batch-size, decreasing the batch-size to 4\n",
      "└ @ MLUtils C:\\Users\\wenbl13\\.julia\\packages\\MLUtils\\Th9Y3\\src\\batchview.jl:95\n"
     ]
    },
    {
     "name": "stdout",
     "output_type": "stream",
     "text": [
      "90...\t"
     ]
    },
    {
     "name": "stderr",
     "output_type": "stream",
     "text": [
      "┌ Warning: Number of observations less than batch-size, decreasing the batch-size to 4\n",
      "└ @ MLUtils C:\\Users\\wenbl13\\.julia\\packages\\MLUtils\\Th9Y3\\src\\batchview.jl:95\n"
     ]
    },
    {
     "name": "stdout",
     "output_type": "stream",
     "text": [
      "100...\t"
     ]
    },
    {
     "name": "stderr",
     "output_type": "stream",
     "text": [
      "┌ Warning: Number of observations less than batch-size, decreasing the batch-size to 4\n",
      "└ @ MLUtils C:\\Users\\wenbl13\\.julia\\packages\\MLUtils\\Th9Y3\\src\\batchview.jl:95\n"
     ]
    },
    {
     "name": "stdout",
     "output_type": "stream",
     "text": [
      "110...\t"
     ]
    },
    {
     "name": "stderr",
     "output_type": "stream",
     "text": [
      "┌ Warning: Number of observations less than batch-size, decreasing the batch-size to 4\n",
      "└ @ MLUtils C:\\Users\\wenbl13\\.julia\\packages\\MLUtils\\Th9Y3\\src\\batchview.jl:95\n"
     ]
    },
    {
     "name": "stdout",
     "output_type": "stream",
     "text": [
      "120...\t"
     ]
    },
    {
     "name": "stderr",
     "output_type": "stream",
     "text": [
      "┌ Warning: Number of observations less than batch-size, decreasing the batch-size to 4\n",
      "└ @ MLUtils C:\\Users\\wenbl13\\.julia\\packages\\MLUtils\\Th9Y3\\src\\batchview.jl:95\n"
     ]
    },
    {
     "name": "stdout",
     "output_type": "stream",
     "text": [
      "130...\t"
     ]
    },
    {
     "name": "stderr",
     "output_type": "stream",
     "text": [
      "┌ Warning: Number of observations less than batch-size, decreasing the batch-size to 4\n",
      "└ @ MLUtils C:\\Users\\wenbl13\\.julia\\packages\\MLUtils\\Th9Y3\\src\\batchview.jl:95\n"
     ]
    },
    {
     "name": "stdout",
     "output_type": "stream",
     "text": [
      "140...\t"
     ]
    },
    {
     "name": "stderr",
     "output_type": "stream",
     "text": [
      "┌ Warning: Number of observations less than batch-size, decreasing the batch-size to 4\n",
      "└ @ MLUtils C:\\Users\\wenbl13\\.julia\\packages\\MLUtils\\Th9Y3\\src\\batchview.jl:95\n"
     ]
    },
    {
     "name": "stdout",
     "output_type": "stream",
     "text": [
      "150...\t"
     ]
    },
    {
     "name": "stderr",
     "output_type": "stream",
     "text": [
      "┌ Warning: Number of observations less than batch-size, decreasing the batch-size to 4\n",
      "└ @ MLUtils C:\\Users\\wenbl13\\.julia\\packages\\MLUtils\\Th9Y3\\src\\batchview.jl:95\n"
     ]
    },
    {
     "name": "stdout",
     "output_type": "stream",
     "text": [
      "160...\t"
     ]
    },
    {
     "name": "stderr",
     "output_type": "stream",
     "text": [
      "┌ Warning: Number of observations less than batch-size, decreasing the batch-size to 4\n",
      "└ @ MLUtils C:\\Users\\wenbl13\\.julia\\packages\\MLUtils\\Th9Y3\\src\\batchview.jl:95\n"
     ]
    },
    {
     "name": "stdout",
     "output_type": "stream",
     "text": [
      "170...\t"
     ]
    },
    {
     "name": "stderr",
     "output_type": "stream",
     "text": [
      "┌ Warning: Number of observations less than batch-size, decreasing the batch-size to 4\n",
      "└ @ MLUtils C:\\Users\\wenbl13\\.julia\\packages\\MLUtils\\Th9Y3\\src\\batchview.jl:95\n"
     ]
    },
    {
     "name": "stdout",
     "output_type": "stream",
     "text": [
      "180...\t"
     ]
    },
    {
     "name": "stderr",
     "output_type": "stream",
     "text": [
      "┌ Warning: Number of observations less than batch-size, decreasing the batch-size to 4\n",
      "└ @ MLUtils C:\\Users\\wenbl13\\.julia\\packages\\MLUtils\\Th9Y3\\src\\batchview.jl:95\n"
     ]
    },
    {
     "name": "stdout",
     "output_type": "stream",
     "text": [
      "190...\t"
     ]
    },
    {
     "name": "stderr",
     "output_type": "stream",
     "text": [
      "┌ Warning: Number of observations less than batch-size, decreasing the batch-size to 4\n",
      "└ @ MLUtils C:\\Users\\wenbl13\\.julia\\packages\\MLUtils\\Th9Y3\\src\\batchview.jl:95\n"
     ]
    },
    {
     "name": "stdout",
     "output_type": "stream",
     "text": [
      "200...\t"
     ]
    },
    {
     "name": "stderr",
     "output_type": "stream",
     "text": [
      "┌ Warning: Number of observations less than batch-size, decreasing the batch-size to 4\n",
      "└ @ MLUtils C:\\Users\\wenbl13\\.julia\\packages\\MLUtils\\Th9Y3\\src\\batchview.jl:95\n"
     ]
    },
    {
     "name": "stdout",
     "output_type": "stream",
     "text": [
      "210...\t"
     ]
    },
    {
     "name": "stderr",
     "output_type": "stream",
     "text": [
      "┌ Warning: Number of observations less than batch-size, decreasing the batch-size to 4\n",
      "└ @ MLUtils C:\\Users\\wenbl13\\.julia\\packages\\MLUtils\\Th9Y3\\src\\batchview.jl:95\n"
     ]
    },
    {
     "name": "stdout",
     "output_type": "stream",
     "text": [
      "220...\t"
     ]
    },
    {
     "name": "stderr",
     "output_type": "stream",
     "text": [
      "┌ Warning: Number of observations less than batch-size, decreasing the batch-size to 4\n",
      "└ @ MLUtils C:\\Users\\wenbl13\\.julia\\packages\\MLUtils\\Th9Y3\\src\\batchview.jl:95\n"
     ]
    },
    {
     "name": "stdout",
     "output_type": "stream",
     "text": [
      "230...\t"
     ]
    },
    {
     "name": "stderr",
     "output_type": "stream",
     "text": [
      "┌ Warning: Number of observations less than batch-size, decreasing the batch-size to 4\n",
      "└ @ MLUtils C:\\Users\\wenbl13\\.julia\\packages\\MLUtils\\Th9Y3\\src\\batchview.jl:95\n"
     ]
    },
    {
     "name": "stdout",
     "output_type": "stream",
     "text": [
      "240...\t"
     ]
    },
    {
     "name": "stderr",
     "output_type": "stream",
     "text": [
      "┌ Warning: Number of observations less than batch-size, decreasing the batch-size to 4\n",
      "└ @ MLUtils C:\\Users\\wenbl13\\.julia\\packages\\MLUtils\\Th9Y3\\src\\batchview.jl:95\n"
     ]
    },
    {
     "name": "stdout",
     "output_type": "stream",
     "text": [
      "250...\t"
     ]
    },
    {
     "name": "stderr",
     "output_type": "stream",
     "text": [
      "┌ Warning: Number of observations less than batch-size, decreasing the batch-size to 4\n",
      "└ @ MLUtils C:\\Users\\wenbl13\\.julia\\packages\\MLUtils\\Th9Y3\\src\\batchview.jl:95\n"
     ]
    },
    {
     "name": "stdout",
     "output_type": "stream",
     "text": [
      "260...\t"
     ]
    },
    {
     "name": "stderr",
     "output_type": "stream",
     "text": [
      "┌ Warning: Number of observations less than batch-size, decreasing the batch-size to 4\n",
      "└ @ MLUtils C:\\Users\\wenbl13\\.julia\\packages\\MLUtils\\Th9Y3\\src\\batchview.jl:95\n"
     ]
    },
    {
     "name": "stdout",
     "output_type": "stream",
     "text": [
      "270...\t"
     ]
    },
    {
     "name": "stderr",
     "output_type": "stream",
     "text": [
      "┌ Warning: Number of observations less than batch-size, decreasing the batch-size to 4\n",
      "└ @ MLUtils C:\\Users\\wenbl13\\.julia\\packages\\MLUtils\\Th9Y3\\src\\batchview.jl:95\n"
     ]
    },
    {
     "name": "stdout",
     "output_type": "stream",
     "text": [
      "280...\t"
     ]
    },
    {
     "name": "stderr",
     "output_type": "stream",
     "text": [
      "┌ Warning: Number of observations less than batch-size, decreasing the batch-size to 4\n",
      "└ @ MLUtils C:\\Users\\wenbl13\\.julia\\packages\\MLUtils\\Th9Y3\\src\\batchview.jl:95\n"
     ]
    },
    {
     "name": "stdout",
     "output_type": "stream",
     "text": [
      "290...\t"
     ]
    },
    {
     "name": "stderr",
     "output_type": "stream",
     "text": [
      "┌ Warning: Number of observations less than batch-size, decreasing the batch-size to 4\n",
      "└ @ MLUtils C:\\Users\\wenbl13\\.julia\\packages\\MLUtils\\Th9Y3\\src\\batchview.jl:95\n"
     ]
    },
    {
     "name": "stdout",
     "output_type": "stream",
     "text": [
      "300...\t"
     ]
    },
    {
     "name": "stderr",
     "output_type": "stream",
     "text": [
      "┌ Warning: Number of observations less than batch-size, decreasing the batch-size to 4\n",
      "└ @ MLUtils C:\\Users\\wenbl13\\.julia\\packages\\MLUtils\\Th9Y3\\src\\batchview.jl:95\n"
     ]
    },
    {
     "name": "stdout",
     "output_type": "stream",
     "text": [
      "310...\t"
     ]
    },
    {
     "name": "stderr",
     "output_type": "stream",
     "text": [
      "┌ Warning: Number of observations less than batch-size, decreasing the batch-size to 4\n",
      "└ @ MLUtils C:\\Users\\wenbl13\\.julia\\packages\\MLUtils\\Th9Y3\\src\\batchview.jl:95\n"
     ]
    },
    {
     "name": "stdout",
     "output_type": "stream",
     "text": [
      "320...\t"
     ]
    },
    {
     "name": "stderr",
     "output_type": "stream",
     "text": [
      "┌ Warning: Number of observations less than batch-size, decreasing the batch-size to 4\n",
      "└ @ MLUtils C:\\Users\\wenbl13\\.julia\\packages\\MLUtils\\Th9Y3\\src\\batchview.jl:95\n"
     ]
    },
    {
     "name": "stdout",
     "output_type": "stream",
     "text": [
      "330...\t"
     ]
    },
    {
     "name": "stderr",
     "output_type": "stream",
     "text": [
      "┌ Warning: Number of observations less than batch-size, decreasing the batch-size to 4\n",
      "└ @ MLUtils C:\\Users\\wenbl13\\.julia\\packages\\MLUtils\\Th9Y3\\src\\batchview.jl:95\n"
     ]
    },
    {
     "name": "stdout",
     "output_type": "stream",
     "text": [
      "340...\t"
     ]
    },
    {
     "name": "stderr",
     "output_type": "stream",
     "text": [
      "┌ Warning: Number of observations less than batch-size, decreasing the batch-size to 4\n",
      "└ @ MLUtils C:\\Users\\wenbl13\\.julia\\packages\\MLUtils\\Th9Y3\\src\\batchview.jl:95\n"
     ]
    },
    {
     "name": "stdout",
     "output_type": "stream",
     "text": [
      "350...\t"
     ]
    },
    {
     "name": "stderr",
     "output_type": "stream",
     "text": [
      "┌ Warning: Number of observations less than batch-size, decreasing the batch-size to 4\n",
      "└ @ MLUtils C:\\Users\\wenbl13\\.julia\\packages\\MLUtils\\Th9Y3\\src\\batchview.jl:95\n"
     ]
    },
    {
     "name": "stdout",
     "output_type": "stream",
     "text": [
      "360...\t"
     ]
    },
    {
     "name": "stderr",
     "output_type": "stream",
     "text": [
      "┌ Warning: Number of observations less than batch-size, decreasing the batch-size to 4\n",
      "└ @ MLUtils C:\\Users\\wenbl13\\.julia\\packages\\MLUtils\\Th9Y3\\src\\batchview.jl:95\n"
     ]
    },
    {
     "name": "stdout",
     "output_type": "stream",
     "text": [
      "370...\t"
     ]
    },
    {
     "name": "stderr",
     "output_type": "stream",
     "text": [
      "┌ Warning: Number of observations less than batch-size, decreasing the batch-size to 4\n",
      "└ @ MLUtils C:\\Users\\wenbl13\\.julia\\packages\\MLUtils\\Th9Y3\\src\\batchview.jl:95\n"
     ]
    },
    {
     "name": "stdout",
     "output_type": "stream",
     "text": [
      "380...\t"
     ]
    },
    {
     "name": "stderr",
     "output_type": "stream",
     "text": [
      "┌ Warning: Number of observations less than batch-size, decreasing the batch-size to 4\n",
      "└ @ MLUtils C:\\Users\\wenbl13\\.julia\\packages\\MLUtils\\Th9Y3\\src\\batchview.jl:95\n"
     ]
    },
    {
     "name": "stdout",
     "output_type": "stream",
     "text": [
      "390...\t"
     ]
    },
    {
     "name": "stderr",
     "output_type": "stream",
     "text": [
      "┌ Warning: Number of observations less than batch-size, decreasing the batch-size to 4\n",
      "└ @ MLUtils C:\\Users\\wenbl13\\.julia\\packages\\MLUtils\\Th9Y3\\src\\batchview.jl:95\n"
     ]
    },
    {
     "name": "stdout",
     "output_type": "stream",
     "text": [
      "400...\t"
     ]
    },
    {
     "name": "stderr",
     "output_type": "stream",
     "text": [
      "┌ Warning: Number of observations less than batch-size, decreasing the batch-size to 4\n",
      "└ @ MLUtils C:\\Users\\wenbl13\\.julia\\packages\\MLUtils\\Th9Y3\\src\\batchview.jl:95\n"
     ]
    },
    {
     "name": "stdout",
     "output_type": "stream",
     "text": [
      "410...\t"
     ]
    },
    {
     "name": "stderr",
     "output_type": "stream",
     "text": [
      "┌ Warning: Number of observations less than batch-size, decreasing the batch-size to 4\n",
      "└ @ MLUtils C:\\Users\\wenbl13\\.julia\\packages\\MLUtils\\Th9Y3\\src\\batchview.jl:95\n"
     ]
    },
    {
     "name": "stdout",
     "output_type": "stream",
     "text": [
      "420...\t"
     ]
    },
    {
     "name": "stderr",
     "output_type": "stream",
     "text": [
      "┌ Warning: Number of observations less than batch-size, decreasing the batch-size to 4\n",
      "└ @ MLUtils C:\\Users\\wenbl13\\.julia\\packages\\MLUtils\\Th9Y3\\src\\batchview.jl:95\n"
     ]
    },
    {
     "name": "stdout",
     "output_type": "stream",
     "text": [
      "430...\t"
     ]
    },
    {
     "name": "stderr",
     "output_type": "stream",
     "text": [
      "┌ Warning: Number of observations less than batch-size, decreasing the batch-size to 4\n",
      "└ @ MLUtils C:\\Users\\wenbl13\\.julia\\packages\\MLUtils\\Th9Y3\\src\\batchview.jl:95\n"
     ]
    },
    {
     "name": "stdout",
     "output_type": "stream",
     "text": [
      "440...\t"
     ]
    },
    {
     "name": "stderr",
     "output_type": "stream",
     "text": [
      "┌ Warning: Number of observations less than batch-size, decreasing the batch-size to 4\n",
      "└ @ MLUtils C:\\Users\\wenbl13\\.julia\\packages\\MLUtils\\Th9Y3\\src\\batchview.jl:95\n"
     ]
    },
    {
     "name": "stdout",
     "output_type": "stream",
     "text": [
      "450...\t"
     ]
    },
    {
     "name": "stderr",
     "output_type": "stream",
     "text": [
      "┌ Warning: Number of observations less than batch-size, decreasing the batch-size to 4\n",
      "└ @ MLUtils C:\\Users\\wenbl13\\.julia\\packages\\MLUtils\\Th9Y3\\src\\batchview.jl:95\n"
     ]
    },
    {
     "name": "stdout",
     "output_type": "stream",
     "text": [
      "460...\t"
     ]
    },
    {
     "name": "stderr",
     "output_type": "stream",
     "text": [
      "┌ Warning: Number of observations less than batch-size, decreasing the batch-size to 4\n",
      "└ @ MLUtils C:\\Users\\wenbl13\\.julia\\packages\\MLUtils\\Th9Y3\\src\\batchview.jl:95\n"
     ]
    },
    {
     "name": "stdout",
     "output_type": "stream",
     "text": [
      "470...\t"
     ]
    },
    {
     "name": "stderr",
     "output_type": "stream",
     "text": [
      "┌ Warning: Number of observations less than batch-size, decreasing the batch-size to 4\n",
      "└ @ MLUtils C:\\Users\\wenbl13\\.julia\\packages\\MLUtils\\Th9Y3\\src\\batchview.jl:95\n"
     ]
    },
    {
     "name": "stdout",
     "output_type": "stream",
     "text": [
      "480...\t"
     ]
    },
    {
     "name": "stderr",
     "output_type": "stream",
     "text": [
      "┌ Warning: Number of observations less than batch-size, decreasing the batch-size to 4\n",
      "└ @ MLUtils C:\\Users\\wenbl13\\.julia\\packages\\MLUtils\\Th9Y3\\src\\batchview.jl:95\n"
     ]
    },
    {
     "name": "stdout",
     "output_type": "stream",
     "text": [
      "490...\t"
     ]
    },
    {
     "name": "stderr",
     "output_type": "stream",
     "text": [
      "┌ Warning: Number of observations less than batch-size, decreasing the batch-size to 4\n",
      "└ @ MLUtils C:\\Users\\wenbl13\\.julia\\packages\\MLUtils\\Th9Y3\\src\\batchview.jl:95\n"
     ]
    },
    {
     "name": "stdout",
     "output_type": "stream",
     "text": [
      "500...\t"
     ]
    },
    {
     "name": "stderr",
     "output_type": "stream",
     "text": [
      "┌ Warning: Number of observations less than batch-size, decreasing the batch-size to 4\n",
      "└ @ MLUtils C:\\Users\\wenbl13\\.julia\\packages\\MLUtils\\Th9Y3\\src\\batchview.jl:95\n"
     ]
    },
    {
     "name": "stdout",
     "output_type": "stream",
     "text": [
      "\n"
     ]
    }
   ],
   "source": [
    "dice_metric_of_dice_model_train_set = []\n",
    "hd_metric_of_dice_model_train_set = []\n",
    "dice_metric_of_HD_Dice_model_train_set = []\n",
    "hd_metric_of_HD_Dice_model_train_set = []\n",
    "\n",
    "dice_metric_of_dice_model_valid_set = []\n",
    "hd_metric_of_dice_model_valid_set = []\n",
    "dice_metric_of_HD_Dice_model_valid_set = []\n",
    "hd_metric_of_HD_Dice_model_valid_set = []\n",
    "\n",
    "for epoch_idx = 10 : 10 : 500\n",
    "    print(\"$epoch_idx...\\t\")\n",
    "    # Load models\n",
    "    DICE_model_path = string(\"savedmodels/bigger_NN_0.001_Dice_\", epoch_idx, \".jld2\")\n",
    "    HD_DICE_model_path = string(\"savedmodels/bigger_NN_0.001_HD_Dice_\", epoch_idx, \".jld2\")\n",
    "    _ , model_Dice = loadtaskmodel(DICE_model_path)\n",
    "    _ , model_HD_Dice = loadtaskmodel(HD_DICE_model_path)\n",
    "    model_Dice = model_Dice |> gpu\n",
    "    model_HD_Dice = model_HD_Dice |> gpu\n",
    "    _ = nothing\n",
    "    # Get metrics\n",
    "\n",
    "    # Traverse train dataloader\n",
    "    curr_dice_metric_of_dice_model = []\n",
    "    curr_hd_metric_of_dice_model = []\n",
    "    curr_dice_metric_of_HD_Dice_model = []\n",
    "    curr_hd_metric_of_HD_Dice_model = []\n",
    "    for (_img, _mask) in tdl\n",
    "        mask = _mask[:,:,:,2,:] .>= 0.5\n",
    "        img = _img |> gpu\n",
    "\n",
    "        # Predictions\n",
    "        pred_mask_DICE = (model_Dice(img) |> cpu)[:,:,:,2,:] .>= 0.5\n",
    "        pred_mask_HD_DICE = (model_HD_Dice(img) |> cpu)[:,:,:,2,:] .>= 0.5\n",
    "\n",
    "        curr_curr_dice_metric_of_dice_model = Array{Any}(undef, 4)\n",
    "        curr_curr_hd_metric_of_dice_model = Array{Any}(undef, 4)\n",
    "        curr_curr_dice_metric_of_HD_Dice_model = Array{Any}(undef, 4)\n",
    "        curr_curr_hd_metric_of_HD_Dice_model = Array{Any}(undef, 4)\n",
    "\n",
    "        Threads.@threads for job_idx = 1:16\n",
    "            batch_idx = ceil(Int, job_idx / 4)\n",
    "            job = job_idx % 4\n",
    "\n",
    "            # Dice metric for Dice model\n",
    "            job == 0 && (curr_curr_dice_metric_of_dice_model = ComputerVisionMetrics.dice(pred_mask_DICE[:,:,:,batch_idx], mask[:,:,:,batch_idx]))\n",
    "\n",
    "            # HD metric for Dice model\n",
    "            job == 1 && (curr_curr_hd_metric_of_dice_model = ComputerVisionMetrics.hausdorff(pred_mask_DICE[:,:,:,batch_idx], mask[:,:,:,batch_idx]))\n",
    "\n",
    "            # Dice metric for HD+Dice model\n",
    "            job == 2 && (curr_curr_dice_metric_of_HD_Dice_model = ComputerVisionMetrics.dice(pred_mask_HD_DICE[:,:,:,batch_idx], mask[:,:,:,batch_idx]))\n",
    "\n",
    "            # HD metric for HD+Dice model\n",
    "            job == 3 && (curr_curr_hd_metric_of_HD_Dice_model = ComputerVisionMetrics.hausdorff(pred_mask_HD_DICE[:,:,:,batch_idx], mask[:,:,:,batch_idx]))\n",
    "        end\n",
    "        # Record\n",
    "        append!(curr_dice_metric_of_dice_model, curr_curr_dice_metric_of_dice_model)\n",
    "        append!(curr_hd_metric_of_dice_model, curr_curr_hd_metric_of_dice_model)\n",
    "        append!(curr_dice_metric_of_HD_Dice_model, curr_curr_dice_metric_of_HD_Dice_model)\n",
    "        append!(curr_hd_metric_of_HD_Dice_model, curr_curr_hd_metric_of_HD_Dice_model)\n",
    "    end\n",
    "    push!(dice_metric_of_dice_model_train_set, mean(curr_dice_metric_of_dice_model))\n",
    "    push!(hd_metric_of_dice_model_train_set, mean(curr_hd_metric_of_dice_model))\n",
    "    push!(dice_metric_of_HD_Dice_model_train_set, mean(curr_dice_metric_of_HD_Dice_model))\n",
    "    push!(hd_metric_of_HD_Dice_model_train_set, mean(curr_hd_metric_of_HD_Dice_model))\n",
    "\n",
    "\n",
    "    curr_dice_metric_of_dice_model = []\n",
    "    curr_hd_metric_of_dice_model = []\n",
    "    curr_dice_metric_of_HD_Dice_model = []\n",
    "    curr_hd_metric_of_HD_Dice_model = []\n",
    "    # Traverse valid dataloader\n",
    "    for (_img, _mask) in vdl\n",
    "        mask = _mask[:,:,:,2,:] .>= 0.5\n",
    "        img = _img |> gpu\n",
    "\n",
    "        # Predictions\n",
    "        pred_mask_DICE = (model_Dice(img) |> cpu)[:,:,:,2,:] .>= 0.5\n",
    "        pred_mask_HD_DICE = (model_HD_Dice(img) |> cpu)[:,:,:,2,:] .>= 0.5\n",
    "\n",
    "        curr_curr_dice_metric_of_dice_model = Array{Any}(undef, 4)\n",
    "        curr_curr_hd_metric_of_dice_model = Array{Any}(undef, 4)\n",
    "        curr_curr_dice_metric_of_HD_Dice_model = Array{Any}(undef, 4)\n",
    "        curr_curr_hd_metric_of_HD_Dice_model = Array{Any}(undef, 4)\n",
    "\n",
    "        Threads.@threads for job_idx = 1:16\n",
    "            batch_idx = ceil(Int, job_idx / 4)\n",
    "            job = job_idx % 4\n",
    "\n",
    "            # Dice metric for Dice model\n",
    "            job == 0 && (curr_curr_dice_metric_of_dice_model = ComputerVisionMetrics.dice(pred_mask_DICE[:,:,:,batch_idx], mask[:,:,:,batch_idx]))\n",
    "\n",
    "            # HD metric for Dice model\n",
    "            job == 1 && (curr_curr_hd_metric_of_dice_model = ComputerVisionMetrics.hausdorff(pred_mask_DICE[:,:,:,batch_idx], mask[:,:,:,batch_idx]))\n",
    "\n",
    "            # Dice metric for HD+Dice model\n",
    "            job == 2 && (curr_curr_dice_metric_of_HD_Dice_model = ComputerVisionMetrics.dice(pred_mask_HD_DICE[:,:,:,batch_idx], mask[:,:,:,batch_idx]))\n",
    "\n",
    "            # HD metric for HD+Dice model\n",
    "            job == 3 && (curr_curr_hd_metric_of_HD_Dice_model = ComputerVisionMetrics.hausdorff(pred_mask_HD_DICE[:,:,:,batch_idx], mask[:,:,:,batch_idx]))\n",
    "        end\n",
    "        # Record\n",
    "        append!(curr_dice_metric_of_dice_model, curr_curr_dice_metric_of_dice_model)\n",
    "        append!(curr_hd_metric_of_dice_model, curr_curr_hd_metric_of_dice_model)\n",
    "        append!(curr_dice_metric_of_HD_Dice_model, curr_curr_dice_metric_of_HD_Dice_model)\n",
    "        append!(curr_hd_metric_of_HD_Dice_model, curr_curr_hd_metric_of_HD_Dice_model)\n",
    "    end\n",
    "    push!(dice_metric_of_dice_model_valid_set, mean(curr_dice_metric_of_dice_model))\n",
    "    push!(hd_metric_of_dice_model_valid_set, mean(curr_hd_metric_of_dice_model))\n",
    "    push!(dice_metric_of_HD_Dice_model_valid_set, mean(curr_dice_metric_of_HD_Dice_model))\n",
    "    push!(hd_metric_of_HD_Dice_model_valid_set, mean(curr_hd_metric_of_HD_Dice_model))\n",
    "    pred_mask_DICE = nothing\n",
    "    pred_mask_HD_DICE = nothing\n",
    "    curr_dice_metric_of_dice_model = nothing\n",
    "    curr_hd_metric_of_dice_model = nothing\n",
    "    curr_dice_metric_of_HD_Dice_model = nothing\n",
    "    curr_hd_metric_of_HD_Dice_model = nothing\n",
    "    GC.gc(true)\n",
    "    CUDA.reclaim()\n",
    "end\n",
    "println()"
   ]
  },
  {
   "attachments": {},
   "cell_type": "markdown",
   "metadata": {},
   "source": [
    "# Record"
   ]
  },
  {
   "cell_type": "code",
   "execution_count": 38,
   "metadata": {},
   "outputs": [
    {
     "data": {
      "text/plain": [
       "\"CSVs/metrics_Task02_Heart_lr_is_0.001.csv\""
      ]
     },
     "metadata": {},
     "output_type": "display_data"
    }
   ],
   "source": [
    "epoch_idx = collect(10 : 10 : 500)\n",
    "df_metrics = DataFrame(epoch_idx = epoch_idx,\n",
    "    dice_metric_of_dice_model_train_set = dice_metric_of_dice_model_train_set,\n",
    "    hd_metric_of_dice_model_train_set = hd_metric_of_dice_model_train_set,\n",
    "    dice_metric_of_HD_Dice_model_train_set = dice_metric_of_HD_Dice_model_train_set,\n",
    "    hd_metric_of_HD_Dice_model_train_set = hd_metric_of_HD_Dice_model_train_set,\n",
    "\n",
    "    dice_metric_of_dice_model_valid_set = dice_metric_of_dice_model_valid_set,\n",
    "    hd_metric_of_dice_model_valid_set = hd_metric_of_dice_model_valid_set,\n",
    "    dice_metric_of_HD_Dice_model_valid_set = dice_metric_of_HD_Dice_model_valid_set,\n",
    "    hd_metric_of_HD_Dice_model_valid_set = hd_metric_of_HD_Dice_model_valid_set)\n",
    "CSV.write(\"CSVs/metrics_Task02_Heart_lr_is_0.001.csv\", df_metrics)"
   ]
  }
 ],
 "metadata": {
  "kernelspec": {
   "display_name": "Julia 1.8.4",
   "language": "julia",
   "name": "julia-1.8"
  },
  "language_info": {
   "file_extension": ".jl",
   "mimetype": "application/julia",
   "name": "julia",
   "version": "1.8.4"
  },
  "orig_nbformat": 4
 },
 "nbformat": 4,
 "nbformat_minor": 2
}
