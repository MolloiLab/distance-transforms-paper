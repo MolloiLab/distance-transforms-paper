{
 "cells": [
  {
   "cell_type": "code",
   "execution_count": 1,
   "metadata": {},
   "outputs": [
    {
     "name": "stderr",
     "output_type": "stream",
     "text": [
      "\u001b[32m\u001b[1m  Activating\u001b[22m\u001b[39m project at `c:\\Users\\wenbl13\\OneDrive - UCI Health\\Desktop\\paper\\hd-loss\\notebooks`"
     ]
    },
    {
     "name": "stderr",
     "output_type": "stream",
     "text": [
      "\n"
     ]
    }
   ],
   "source": [
    "# Julia 1.8.4\n",
    "using Pkg\n",
    "Pkg.activate(\".\")\n",
    "Pkg.instantiate()\n",
    "# Pkg.add(\"CUDA\")\n",
    "# Pkg.add(\"Glob\")\n",
    "# Pkg.add(\"Flux\")\n",
    "# Pkg.add(\"NIfTI\")\n",
    "# Pkg.add(\"Images\")\n",
    "# Pkg.add(\"FastAI\")\n",
    "# Pkg.add(\"Metalhead\")\n",
    "# Pkg.add(\"FastVision\")\n",
    "# Pkg.add(\"CairoMakie\")\n",
    "# Pkg.add(\"StaticArrays\")\n",
    "# Pkg.add(\"MLDataPattern\")\n",
    "# Pkg.add(\"BenchmarkTools\")\n",
    "# Pkg.add(\"ChainRulesCore\")\n",
    "# Pkg.add(\"BSON\")\n",
    "# Pkg.add(\"DataFrames\")\n",
    "# Pkg.add(\"CSV\")\n",
    "# Pkg.add(url = \"https://github.com/Dale-Black/ComputerVisionMetrics.jl\")\n",
    "# Pkg.add(url=\"https://github.com/Dale-Black/DistanceTransforms.jl\", rev=\"wenbo\")"
   ]
  },
  {
   "cell_type": "code",
   "execution_count": 2,
   "metadata": {},
   "outputs": [],
   "source": [
    "using CUDA\n",
    "using Glob\n",
    "using Dates\n",
    "using NIfTI\n",
    "using Images\n",
    "using Statistics\n",
    "using StaticArrays\n",
    "using MLDataPattern\n",
    "using BenchmarkTools\n",
    "using ChainRulesCore\n",
    "using DistanceTransforms\n",
    "using Printf\n",
    "using DataFrames\n",
    "using CSV\n",
    "using ComputerVisionMetrics\n",
    "using FastAI, FastVision, Flux, Metalhead\n",
    "import CairoMakie; CairoMakie.activate!(type=\"png\")"
   ]
  },
  {
   "attachments": {},
   "cell_type": "markdown",
   "metadata": {},
   "source": [
    "# Load and prepare data"
   ]
  },
  {
   "cell_type": "code",
   "execution_count": 3,
   "metadata": {},
   "outputs": [
    {
     "name": "stdout",
     "output_type": "stream",
     "text": [
      "Found 87 of 87\n"
     ]
    },
    {
     "name": "stderr",
     "output_type": "stream",
     "text": [
      "\r\u001b[32mProgress:   2%|█                                        |  ETA: 0:01:38\u001b[39m\u001b[K"
     ]
    },
    {
     "name": "stderr",
     "output_type": "stream",
     "text": [
      "\r\u001b[32mProgress: 100%|█████████████████████████████████████████| Time: 0:00:03\u001b[39m\u001b[K\n"
     ]
    },
    {
     "name": "stdout",
     "output_type": "stream",
     "text": [
      "Preparing Dataset...\n"
     ]
    }
   ],
   "source": [
    "mask_dir = raw\"E:\\RSNA_compressed_data\\96_96_96\\segmentations\"\n",
    "train_image_dir = raw\"E:\\RSNA_compressed_data\\96_96_96\\train_images\"\n",
    "mask_names = []\n",
    "for f in readdir(mask_dir, join=false)\n",
    "    push!(mask_names, splitext(splitext(f)[1])[1])\n",
    "end\n",
    "\n",
    "matched_names = []\n",
    "ct = 0\n",
    "for img in readdir(train_image_dir, join=false)\n",
    "    f = splitext(img)[1]\n",
    "    if f in mask_names\n",
    "        push!(matched_names, f)\n",
    "        ct += 1\n",
    "    end\n",
    "end\n",
    "println(\"Found $ct of $(size(mask_names)[1])\")\n",
    "\n",
    "image_size = (96, 96, 96)\n",
    "container_images = Array{Float32, 4}(undef, image_size..., ct)\n",
    "container_masks = Array{Float32, 4}(undef, image_size..., ct)\n",
    "# Load 87 images from saved data.\n",
    "Threads.@threads for i = 1 : ct\n",
    "    curr_path = @sprintf \"%s\\\\%s.txt\" train_image_dir matched_names[i]\n",
    "    temp = zeros(image_size)\n",
    "    read!(curr_path, temp)\n",
    "    container_images[:,:,:, i] = deepcopy(temp)\n",
    "end\n",
    "# Normalize images\n",
    "for i = 1 : 87\n",
    "    curr_img = container_images[:,:,:, i]\n",
    "    curr_max, curr_min = maximum(curr_img), minimum(curr_img)\n",
    "    curr_img = (curr_img .- curr_min) ./ (curr_max - curr_min)\n",
    "    container_images[:,:,:, i] = curr_img\n",
    "end\n",
    "# Load 87 masks from saved data.\n",
    "Threads.@threads for i = 1 : ct\n",
    "    curr_path = @sprintf \"%s\\\\%s.nii.txt\" mask_dir matched_names[i]\n",
    "    temp = zeros(image_size)\n",
    "    read!(curr_path, temp)\n",
    "    container_masks[:,:,:, i] = deepcopy(temp)\n",
    "end\n",
    "container_masks = Int64.(round.(container_masks) .+ 1)\n",
    "data_ready = (container_images, container_masks);\n",
    "\n",
    "image1, mask1 = sample = (container_images[:,:,:,1], container_masks[:,:,:,1]);\n",
    "\n",
    "data_mean, data_std = FastVision.imagedatasetstats(container_images, Gray{N0f8}) \n",
    "data_mean, data_std = StaticArraysCore.SVector{1, Float32}(data_mean[1]), StaticArraysCore.SVector{1, Float32}(data_std[1])\n",
    "\n",
    "task = SupervisedTask(\n",
    "    (FastVision.Image{3}(), Mask{3}(1:8)), # 1: background, 2-8: 7 classes\n",
    "    (\n",
    "        FastVision.ProjectiveTransforms((image_size)),\n",
    "        ImagePreprocessing(means = data_mean, stds = data_std, C = Gray{N0f8}),\n",
    "        FastAI.OneHot()\n",
    "    )\n",
    ")\n",
    "println(\"Preparing Dataset...\")\n",
    "batch_size = 1\n",
    "\n",
    "@assert checkblock(task.blocks.sample, sample)\n",
    "train_files, val_files = MLDataPattern.splitobs(data_ready, 0.8)\n",
    "tdl, vdl = FastAI.taskdataloaders(train_files, val_files, task, batch_size);"
   ]
  },
  {
   "attachments": {},
   "cell_type": "markdown",
   "metadata": {},
   "source": [
    "# Get metrics"
   ]
  },
  {
   "attachments": {},
   "cell_type": "markdown",
   "metadata": {},
   "source": [
    "## Dice Model"
   ]
  },
  {
   "cell_type": "code",
   "execution_count": 4,
   "metadata": {},
   "outputs": [
    {
     "name": "stdout",
     "output_type": "stream",
     "text": [
      "10...\t"
     ]
    }
   ],
   "source": [
    "dice_metric_of_dice_model_train_set = []\n",
    "hd_metric_of_dice_model_train_set = []\n",
    "\n",
    "dice_metric_of_dice_model_valid_set = []\n",
    "hd_metric_of_dice_model_valid_set = []\n",
    "\n",
    "for epoch_idx = 10 : 10 : 500\n",
    "    print(\"$epoch_idx...\\t\")\n",
    "    # Load models\n",
    "    DICE_model_path = string(\"E:/RSNA_savedmodels/bigger_NN_0.001_Dice_\", epoch_idx, \".jld2\")\n",
    "    _ , model_Dice = loadtaskmodel(DICE_model_path)\n",
    "    _ , model_Dice = nothing, model_Dice |> gpu\n",
    "    # Get metrics\n",
    "\n",
    "    # Traverse train dataloader\n",
    "    curr_dice_metric_of_dice_model = []\n",
    "    curr_hd_metric_of_dice_model = []\n",
    "    for (_img, _mask) in tdl\n",
    "        mask = _mask .>= 0.5\n",
    "        img = _img |> gpu\n",
    "\n",
    "        # Predictions\n",
    "        pred_mask_DICE = (model_Dice(img) |> cpu) .>= 0.5\n",
    "\n",
    "        curr_curr_dice_metric_of_dice_model = Array{Any}(undef, 7)\n",
    "        curr_curr_hd_metric_of_dice_model = Array{Any}(undef, 7)\n",
    "\n",
    "        Threads.@threads for channel_idx = 2:8\n",
    "            # Dice metric for Dice model\n",
    "            curr_curr_dice_metric_of_dice_model[channel_idx-1] = ComputerVisionMetrics.dice(pred_mask_DICE[:,:,:,channel_idx,1], mask[:,:,:,channel_idx,1])\n",
    "    \n",
    "            # HD metric for Dice model\n",
    "            curr_curr_hd_metric_of_dice_model[channel_idx-1] = ComputerVisionMetrics.hausdorff(pred_mask_DICE[:,:,:,channel_idx,1], mask[:,:,:,channel_idx,1])\n",
    "        end\n",
    "        # Record\n",
    "        append!(curr_dice_metric_of_dice_model, curr_curr_dice_metric_of_dice_model)\n",
    "        append!(curr_hd_metric_of_dice_model, curr_curr_hd_metric_of_dice_model)\n",
    "    end\n",
    "    push!(dice_metric_of_dice_model_train_set, mean(curr_dice_metric_of_dice_model))\n",
    "    push!(hd_metric_of_dice_model_train_set, mean(curr_hd_metric_of_dice_model))\n",
    "\n",
    "\n",
    "    curr_dice_metric_of_dice_model = []\n",
    "    curr_hd_metric_of_dice_model = []\n",
    "    # Traverse valid dataloader\n",
    "    for (_img, _mask) in vdl\n",
    "        mask = _mask .>= 0.5\n",
    "        img = _img |> gpu\n",
    "\n",
    "        # Predictions\n",
    "        pred_mask_DICE = (model_Dice(img) |> cpu) .>= 0.5\n",
    "\n",
    "        curr_curr_dice_metric_of_dice_model = Array{Any}(undef, 7)\n",
    "        curr_curr_hd_metric_of_dice_model = Array{Any}(undef, 7)\n",
    "\n",
    "        Threads.@threads for job_idx = 1:14\n",
    "            if job_idx > 7\n",
    "                # Dice metric for Dice model\n",
    "                curr_curr_dice_metric_of_dice_model[job_idx - 7] = ComputerVisionMetrics.dice(\n",
    "                    pred_mask_DICE[:,:,:,job_idx-6,1], mask[:,:,:,job_idx-6,1])\n",
    "            else\n",
    "                # HD metric for Dice model\n",
    "                curr_curr_hd_metric_of_dice_model[job_idx] = ComputerVisionMetrics.hausdorff(\n",
    "                    pred_mask_DICE[:,:,:,job_idx+1,1], mask[:,:,:,job_idx+1,1])\n",
    "            end\n",
    "        end\n",
    "        # Record\n",
    "        append!(curr_dice_metric_of_dice_model, curr_curr_dice_metric_of_dice_model)\n",
    "        append!(curr_hd_metric_of_dice_model, curr_curr_hd_metric_of_dice_model)\n",
    "    end\n",
    "    push!(dice_metric_of_dice_model_valid_set, mean(curr_dice_metric_of_dice_model))\n",
    "    push!(hd_metric_of_dice_model_valid_set, mean(curr_hd_metric_of_dice_model))\n",
    "\n",
    "    # model_Dice = nothing\n",
    "\n",
    "    curr_dice_metric_of_dice_model = nothing\n",
    "    curr_hd_metric_of_dice_model = nothing\n",
    "    \n",
    "    # GC.gc(true)\n",
    "    # CUDA.reclaim()\n",
    "end\n",
    "println()"
   ]
  },
  {
   "attachments": {},
   "cell_type": "markdown",
   "metadata": {},
   "source": [
    "## HD+Dice Model"
   ]
  },
  {
   "cell_type": "code",
   "execution_count": null,
   "metadata": {},
   "outputs": [],
   "source": [
    "dice_metric_of_HD_Dice_model_train_set = []\n",
    "hd_metric_of_HD_Dice_model_train_set = []\n",
    "\n",
    "dice_metric_of_HD_Dice_model_valid_set = []\n",
    "hd_metric_of_HD_Dice_model_valid_set = []\n",
    "\n",
    "for epoch_idx = 10 : 10 : 500\n",
    "    print(\"$epoch_idx...\\t\")\n",
    "    # Load models\n",
    "    HD_DICE_model_path = string(\"E:/RSNA_savedmodels/3_bigger_NN_0.001_HD_Dice_\", epoch_idx, \".jld2\")\n",
    "    _ , model_HD_Dice = loadtaskmodel(HD_DICE_model_path)\n",
    "    _ , model_HD_Dice = nothing, model_HD_Dice |> gpu\n",
    "    # Get metrics\n",
    "\n",
    "    # Traverse train dataloader\n",
    "    curr_dice_metric_of_HD_Dice_model = []\n",
    "    curr_hd_metric_of_HD_Dice_model = []\n",
    "    for (_img, _mask) in tdl\n",
    "        mask = _mask .>= 0.5\n",
    "        img = _img |> gpu\n",
    "\n",
    "        # Predictions\n",
    "        pred_mask_HD_DICE = (model_HD_Dice(img) |> cpu) .>= 0.5\n",
    "\n",
    "        curr_curr_dice_metric_of_HD_Dice_model = Array{Any}(undef, 7)\n",
    "        curr_curr_hd_metric_of_HD_Dice_model = Array{Any}(undef, 7)\n",
    "        \n",
    "        Threads.@threads for job_idx = 1:14\n",
    "            if job_idx > 7\n",
    "                # Dice metric for Dice model\n",
    "                curr_curr_dice_metric_of_dice_model[job_idx - 7] = ComputerVisionMetrics.dice(\n",
    "                    pred_mask_DICE[:,:,:,job_idx-6,1], mask[:,:,:,job_idx-6,1])\n",
    "            else\n",
    "                # HD metric for Dice model\n",
    "                curr_curr_hd_metric_of_dice_model[job_idx] = ComputerVisionMetrics.hausdorff(\n",
    "                    pred_mask_DICE[:,:,:,job_idx+1,1], mask[:,:,:,job_idx+1,1])\n",
    "            end\n",
    "        end\n",
    "        # Record\n",
    "        append!(curr_dice_metric_of_HD_Dice_model, curr_curr_dice_metric_of_HD_Dice_model)\n",
    "        append!(curr_hd_metric_of_HD_Dice_model, curr_curr_hd_metric_of_HD_Dice_model)\n",
    "    end\n",
    "    push!(dice_metric_of_HD_Dice_model_train_set, mean(curr_dice_metric_of_HD_Dice_model))\n",
    "    push!(hd_metric_of_HD_Dice_model_train_set, mean(curr_hd_metric_of_HD_Dice_model))\n",
    "\n",
    "\n",
    "    curr_dice_metric_of_dice_model = []\n",
    "    curr_hd_metric_of_dice_model = []\n",
    "    curr_dice_metric_of_HD_Dice_model = []\n",
    "    curr_hd_metric_of_HD_Dice_model = []\n",
    "    # Traverse valid dataloader\n",
    "    for (_img, _mask) in vdl\n",
    "        mask = _mask .>= 0.5\n",
    "        img = _img |> gpu\n",
    "\n",
    "        # Predictions\n",
    "        pred_mask_HD_DICE = (model_HD_Dice(img) |> cpu) .>= 0.5\n",
    "\n",
    "        curr_curr_dice_metric_of_HD_Dice_model = Array{Any}(undef, 7)\n",
    "        curr_curr_hd_metric_of_HD_Dice_model = Array{Any}(undef, 7)\n",
    "        \n",
    "        Threads.@threads for channel_idx = 2:8\n",
    "            # Dice metric for HD+Dice model\n",
    "            curr_curr_dice_metric_of_HD_Dice_model[channel_idx-1] = ComputerVisionMetrics.dice(pred_mask_HD_DICE[:,:,:,channel_idx,1], mask[:,:,:,channel_idx,1])\n",
    "    \n",
    "            # HD metric for HD+Dice model\n",
    "            curr_curr_hd_metric_of_HD_Dice_model[channel_idx-1] = ComputerVisionMetrics.hausdorff(pred_mask_HD_DICE[:,:,:,channel_idx,1], mask[:,:,:,channel_idx,1])\n",
    "        end\n",
    "        # Record\n",
    "        append!(curr_dice_metric_of_HD_Dice_model, curr_curr_dice_metric_of_HD_Dice_model)\n",
    "        append!(curr_hd_metric_of_HD_Dice_model, curr_curr_hd_metric_of_HD_Dice_model)\n",
    "    end\n",
    "    push!(dice_metric_of_HD_Dice_model_valid_set, mean(curr_dice_metric_of_HD_Dice_model))\n",
    "    push!(hd_metric_of_HD_Dice_model_valid_set, mean(curr_hd_metric_of_HD_Dice_model))\n",
    "\n",
    "    # model_HD_Dice = nothing\n",
    "\n",
    "    curr_dice_metric_of_HD_Dice_model = nothing\n",
    "    curr_hd_metric_of_HD_Dice_model = nothing\n",
    "    \n",
    "    # GC.gc(true)\n",
    "    # CUDA.reclaim()\n",
    "\n",
    "end\n",
    "println()"
   ]
  },
  {
   "attachments": {},
   "cell_type": "markdown",
   "metadata": {},
   "source": [
    "# Record"
   ]
  },
  {
   "cell_type": "code",
   "execution_count": null,
   "metadata": {},
   "outputs": [],
   "source": [
    "epoch_idx = collect(10 : 10 : 500)\n",
    "df_metrics = DataFrame(epoch_idx = epoch_idx,\n",
    "    dice_metric_of_dice_model_train_set = dice_metric_of_dice_model_train_set,\n",
    "    hd_metric_of_dice_model_train_set = hd_metric_of_dice_model_train_set,\n",
    "    dice_metric_of_HD_Dice_model_train_set = dice_metric_of_HD_Dice_model_train_set,\n",
    "    hd_metric_of_HD_Dice_model_train_set = hd_metric_of_HD_Dice_model_train_set,\n",
    "\n",
    "    dice_metric_of_dice_model_valid_set = dice_metric_of_dice_model_valid_set,\n",
    "    hd_metric_of_dice_model_valid_set = hd_metric_of_dice_model_valid_set,\n",
    "    dice_metric_of_HD_Dice_model_valid_set = dice_metric_of_HD_Dice_model_valid_set,\n",
    "    hd_metric_of_HD_Dice_model_valid_set = hd_metric_of_HD_Dice_model_valid_set\n",
    "    )\n",
    "CSV.write(\"E:/CSVs/metrics_RSNA.csv\", df_metrics)"
   ]
  }
 ],
 "metadata": {
  "kernelspec": {
   "display_name": "Julia 1.8.5",
   "language": "julia",
   "name": "julia-1.8"
  },
  "language_info": {
   "file_extension": ".jl",
   "mimetype": "application/julia",
   "name": "julia",
   "version": "1.8.5"
  },
  "orig_nbformat": 4
 },
 "nbformat": 4,
 "nbformat_minor": 2
}
